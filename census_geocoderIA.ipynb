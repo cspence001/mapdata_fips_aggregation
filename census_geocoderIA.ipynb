{
 "cells": [
  {
   "cell_type": "code",
   "execution_count": null,
   "metadata": {},
   "outputs": [],
   "source": [
    "#dependencies\n",
    "import re\n",
    "from bs4 import BeautifulSoup \n",
    "from splinter import Browser\n",
    "import requests\n",
    "import pandas as pd\n",
    "import numpy as np\n",
    "from selenium import webdriver \n",
    "from selenium.common.exceptions import TimeoutException\n",
    "from webdriver_manager.chrome import ChromeDriverManager\n",
    "import json\n",
    "import time\n",
    "from tqdm.notebook import tqdm "
   ]
  },
  {
   "cell_type": "code",
   "execution_count": null,
   "metadata": {},
   "outputs": [],
   "source": [
    "geo_path = \"data/state_data/geo/ppp_geo.csv\" #data as of 11/21/21\n",
    "ppp_geo= pd.read_csv(geo_path)\n",
    "ppp_geo.shape[0]"
   ]
  },
  {
   "cell_type": "code",
   "execution_count": null,
   "metadata": {},
   "outputs": [],
   "source": [
    "ppp_geonull=ppp_geo.loc[ppp_geo[\"Lat\"].isnull()] #457467\n",
    "ppp_geonull.head()"
   ]
  },
  {
   "cell_type": "code",
   "execution_count": null,
   "metadata": {},
   "outputs": [],
   "source": [
    "ppp_geonull[\"BorrowerState\"].value_counts()"
   ]
  },
  {
   "cell_type": "code",
   "execution_count": null,
   "metadata": {},
   "outputs": [],
   "source": [
    "ppp_togeoIA = ppp_geonull.loc[ppp_geonull[\"BorrowerState\"] == \"IA\"]\n",
    "ppp_togeoIA #60040"
   ]
  },
  {
   "cell_type": "code",
   "execution_count": null,
   "metadata": {},
   "outputs": [],
   "source": [
    "#process to identify and code for unique addresses \n",
    "cols = [\"LoanNumber\",\"full_add\"]\n",
    "ppp_togeoIA_add = ppp_togeoIA[cols]\n",
    "ppp_togeoIA_add"
   ]
  },
  {
   "cell_type": "code",
   "execution_count": null,
   "metadata": {},
   "outputs": [],
   "source": [
    "add = ppp_togeoIA[\"full_add\"].astype(str).to_list()"
   ]
  },
  {
   "cell_type": "code",
   "execution_count": null,
   "metadata": {},
   "outputs": [],
   "source": [
    "def sleep():\n",
    "    time.sleep(1)\n",
    "    \n",
    "executable_path = {'executable_path': ChromeDriverManager().install()}\n",
    "driver = Browser('chrome', **executable_path, headless=False)    \n",
    "url = 'https://geocoding.geo.census.gov/geocoder/geographies/onelineaddress?form'\n",
    "driver.visit(url)\n",
    "\n",
    "not_found = []\n",
    "lat = []\n",
    "long = []\n",
    "geo_id = []\n",
    "\n",
    "i=0\n",
    "for i in tqdm(range(len(add))):\n",
    "        driver.find_by_id('_address_id').clear()\n",
    "        driver.find_by_id('_address_id').fill(add[i])\n",
    "        driver.find_by_id('proceed').click()\n",
    "        \n",
    "        soup = BeautifulSoup(driver.html, 'html.parser')\n",
    "        results = soup.find_all('div', id=\"pl_gov_census_geo_geocoder_domain_AddressResult\")\n",
    "        \n",
    "        for result in results:\n",
    "            result_text = result.text\n",
    "            result_lat = re.findall('[^-](\\d{2}[.]+\\d+)', result_text)\n",
    "            result_long = re.findall('[-]\\d{2}[.]+\\d+', result_text) #WEST 3-digit Longitude\n",
    "            result_digits = re.findall('\\d+', result_text)\n",
    "            startswith = [s for s in result_digits if s.startswith('19')] #IA\n",
    "            fips_elements =[element for element in startswith if len(element)>=15]\n",
    "            \n",
    "            try:\n",
    "                #print(f\"{add[i]} is {result_lat}, {result_long}, {fips_elements}\")\n",
    "                lat.append(result_lat[0])\n",
    "                long.append(result_long[0])\n",
    "                geo_id.append(fips_elements)\n",
    "            except (KeyError, IndexError):\n",
    "                not_found.append(i)\n",
    "                lat.append(None)  \n",
    "                long.append(None)\n",
    "                geo_id.append(None)  \n",
    "                print(f\"{add[i]} is Not Found\")\n",
    "            except (TimeoutException):\n",
    "                driver.navigate.refresh()\n",
    "    \n",
    "        sleep()\n",
    "        i=i+1"
   ]
  },
  {
   "cell_type": "code",
   "execution_count": null,
   "metadata": {},
   "outputs": [],
   "source": [
    "print(len(add))\n",
    "print(len(lat))\n",
    "print(len(long))\n",
    "print(len(geo_id))"
   ]
  },
  {
   "cell_type": "markdown",
   "metadata": {},
   "source": [
    "<b>Add remaining values (2801) to result_df(5461)"
   ]
  },
  {
   "cell_type": "code",
   "execution_count": null,
   "metadata": {},
   "outputs": [],
   "source": [
    "pd.set_option(\"display.max_rows\", None)\n",
    "lat_df = pd.DataFrame({\"Lat\":lat})\n",
    "lat_df_drop = lat_df\n",
    "lat_df_drop = lat_df_drop.drop(4558)\n",
    "\n",
    "\n",
    "line = pd.DataFrame({\"Lat\": \"42.05499\",}, index=[3294.5])\n",
    "df2 = lat_df_drop.append(line, ignore_index=False)\n",
    "df2 = df2.sort_index().reset_index(drop=True)\n",
    "lat_list = df2[\"Lat\"].to_list()"
   ]
  },
  {
   "cell_type": "code",
   "execution_count": null,
   "metadata": {},
   "outputs": [],
   "source": [
    "add_df = pd.DataFrame({\"full_add\":add, \"Lat\": lat_list})\n",
    "add_df"
   ]
  },
  {
   "cell_type": "code",
   "execution_count": null,
   "metadata": {},
   "outputs": [],
   "source": [
    "long_df = pd.DataFrame({\"Long\": long, \"FIPS_z\":geo_id})\n",
    "long_df"
   ]
  },
  {
   "cell_type": "code",
   "execution_count": null,
   "metadata": {},
   "outputs": [],
   "source": [
    "line = pd.DataFrame({\"Long\": \"-93.62167\", \"FIPS_z\":\"191690003002005\"}, index=[3294.5])\n",
    "df3 = long_df.append(line, ignore_index=False)\n",
    "df3 = df3.sort_index().reset_index(drop=True)\n",
    "df3"
   ]
  },
  {
   "cell_type": "code",
   "execution_count": null,
   "metadata": {},
   "outputs": [],
   "source": [
    "df4 = pd.concat([add_df, df3], axis=1)\n",
    "df4"
   ]
  },
  {
   "cell_type": "code",
   "execution_count": null,
   "metadata": {},
   "outputs": [],
   "source": [
    "result_df = df4"
   ]
  },
  {
   "cell_type": "code",
   "execution_count": null,
   "metadata": {},
   "outputs": [],
   "source": [
    "result_df['FIPS_z'] = result_df['FIPS_z'].str[0]\n",
    "result_df "
   ]
  },
  {
   "cell_type": "code",
   "execution_count": null,
   "metadata": {},
   "outputs": [],
   "source": [
    "#mapping coordinates to NaN values in main \n",
    "m = dict(zip(result_df.full_add,result_df.Lat))\n",
    "ppp_togeoIA.Lat = ppp_togeoIA.Lat.fillna(ppp_togeoIA.full_add.map(m))\n",
    "n = dict(zip(result_df.full_add,result_df.Long))\n",
    "ppp_togeoIA.Long = ppp_togeoIA.Long.fillna(ppp_togeoIA.full_add.map(n))\n",
    "o = dict(zip(result_df.full_add,result_df.FIPS_z))\n",
    "ppp_togeoIA.FIPS_z = ppp_togeoIA.FIPS_z.fillna(ppp_togeoIA.full_add.map(o))"
   ]
  },
  {
   "cell_type": "code",
   "execution_count": null,
   "metadata": {},
   "outputs": [],
   "source": [
    "cols = [\"LoanNumber\", \"FIPS_z\", \"Lat\", \"Long\"]\n",
    "ppp_togeoIA_parsed = ppp_togeoIA[cols]\n",
    "ppp_togeoIA_parsed.head()"
   ]
  },
  {
   "cell_type": "code",
   "execution_count": null,
   "metadata": {
    "scrolled": true
   },
   "outputs": [],
   "source": [
    "ppp_geo = ppp_geo.merge(ppp_togeoIA_parsed, on=\"LoanNumber\", how=\"left\")\n",
    "ppp_geo.head()"
   ]
  },
  {
   "cell_type": "code",
   "execution_count": null,
   "metadata": {},
   "outputs": [],
   "source": [
    "ppp_geo[\"Lat\"] = ppp_geo[\"Lat_y\"].fillna(ppp_geo[\"Lat_x\"])\n",
    "ppp_geo[\"Long\"] = ppp_geo[\"Long_y\"].fillna(ppp_geo[\"Long_x\"])\n",
    "ppp_geo[\"FIPS_z\"] = ppp_geo[\"FIPS_z_y\"].fillna(ppp_geo[\"FIPS_z_x\"])\n",
    "ppp_geo = ppp_geo.drop([\"Lat_x\", \"Long_x\", \"Lat_y\", \"Long_y\", \"FIPS_z_y\", \"FIPS_z_x\"], axis=1)\n",
    "ppp_geo.head()"
   ]
  },
  {
   "cell_type": "code",
   "execution_count": null,
   "metadata": {},
   "outputs": [],
   "source": [
    "ppp_geo.to_csv(\"data/state_data/geo/ppp_geo.csv\")"
   ]
  },
  {
   "cell_type": "code",
   "execution_count": null,
   "metadata": {},
   "outputs": [],
   "source": [
    "ppp_geo_ia = ppp_geo.loc[ppp_geo[\"BorrowerState\"] ==\"IA\"]\n",
    "ppp_geo_ia.shape[0]"
   ]
  },
  {
   "cell_type": "code",
   "execution_count": null,
   "metadata": {},
   "outputs": [],
   "source": [
    "null_check = ppp_geo_ia.loc[ppp_geo_ia[\"Lat\"].isnull()]\n",
    "null_check.shape[0]"
   ]
  },
  {
   "cell_type": "code",
   "execution_count": null,
   "metadata": {},
   "outputs": [],
   "source": []
  }
 ],
 "metadata": {
  "kernelspec": {
   "display_name": "Python 3",
   "language": "python",
   "name": "python3"
  },
  "language_info": {
   "codemirror_mode": {
    "name": "ipython",
    "version": 3
   },
   "file_extension": ".py",
   "mimetype": "text/x-python",
   "name": "python",
   "nbconvert_exporter": "python",
   "pygments_lexer": "ipython3",
   "version": "3.8.3"
  }
 },
 "nbformat": 4,
 "nbformat_minor": 4
}
